{
 "cells": [
  {
   "cell_type": "markdown",
   "id": "9ae0d9dc",
   "metadata": {},
   "source": [
    "python装饰器，表示为内包函数中使用新定义的函数代替参数函数，通过@表示装饰函数，@下面为替代函数"
   ]
  },
  {
   "cell_type": "code",
   "execution_count": 12,
   "id": "567f1833",
   "metadata": {},
   "outputs": [],
   "source": [
    "def add(a : int, b : int):\n",
    "    return a + b\n",
    "\n",
    "def multiply(a : int, b : int):\n",
    "    return a * b\n",
    "\n",
    "def minus(a : int, b : int):\n",
    "    return a - b"
   ]
  },
  {
   "cell_type": "code",
   "execution_count": 13,
   "id": "1a05f336",
   "metadata": {},
   "outputs": [],
   "source": [
    "def printFuncName(func):\n",
    "    def decorator(*args, **kwargs):\n",
    "        print(f\"\\033[33mcall {func.__name__}\\033[0m\")\n",
    "        return func(*args, **kwargs)\n",
    "    return decorator"
   ]
  },
  {
   "cell_type": "code",
   "execution_count": 14,
   "id": "48616129",
   "metadata": {},
   "outputs": [
    {
     "name": "stdout",
     "output_type": "stream",
     "text": [
      "\u001b[33mcall add\u001b[0m\n",
      "3\n",
      "\u001b[33mcall multiply\u001b[0m\n",
      "2\n",
      "\u001b[33mcall minus\u001b[0m\n",
      "-1\n"
     ]
    }
   ],
   "source": [
    "@printFuncName\n",
    "def add(a : int, b : int):\n",
    "    return a + b\n",
    "\n",
    "@printFuncName\n",
    "def multiply(a : int, b : int):\n",
    "    return a * b\n",
    "\n",
    "@printFuncName\n",
    "def minus(a : int, b : int):\n",
    "    return a - b\n",
    "\n",
    "print(add(1, 2))\n",
    "print(multiply(1, 2))\n",
    "print(minus(1, 2))"
   ]
  },
  {
   "cell_type": "markdown",
   "id": "9ca16155",
   "metadata": {},
   "source": [
    "如果你的项目中有许多可能会随处用到的函数和类，你希望把所有的这些指定的函数和类整合到一个字典（字典的key是函数名，类名或者自定义的名字，value是对应的函数对象或者类）中，那么这样一个过程称为注册。如果我将一个函数放入了这个字典中，那么就称完成了对该函数的注册。"
   ]
  },
  {
   "cell_type": "code",
   "execution_count": 15,
   "id": "9afe6cdd",
   "metadata": {},
   "outputs": [],
   "source": [
    "register = {}\n",
    "\n",
    "def func1():\n",
    "    pass\n",
    "\n",
    "f = lambda x : x\n",
    "\n",
    "class cls1(object):\n",
    "    pass\n",
    "\n",
    "register[func1.__name__] = func1\n",
    "register[f.__name__] = f\n",
    "register[cls1.__name__] = cls1"
   ]
  },
  {
   "cell_type": "markdown",
   "id": "69318be9",
   "metadata": {},
   "source": [
    "但是这样做非常的臃肿，添加新的函数的时候也不方便，需要一种自动注册的方法，就需要用到装饰器，写一个类Register，这个类的register方法充当我们的要实现注册功能的装饰器函数，由于注册的载体往往是字典，因此，我们这个Register类继承dict。"
   ]
  },
  {
   "cell_type": "code",
   "execution_count": 28,
   "id": "bd7a0457",
   "metadata": {},
   "outputs": [],
   "source": [
    "class Register(dict):\n",
    "    def __init__(self, *args, **kwargs):\n",
    "        super(Register, self).__init__(*args, **kwargs)\n",
    "        self._dict = {}\n",
    "    \n",
    "    def register(self, target):\n",
    "        def add_register_item(key, value):\n",
    "            if not callable(value):\n",
    "                raise Exception(f\"register object must be callable! But receice:{value} is not callable!\")\n",
    "            if key in self._dict:\n",
    "                print(f\"warning: \\033[33m{value.__name__} has been registered before, so we will overriden it\\033[0m\")\n",
    "            self[key] = value\n",
    "            return value\n",
    "\n",
    "        if callable(target):            # 如果传入的目标可调用，说明之前没有给出注册名字，我们就以传入的函数或者类的名字作为注册名\n",
    "            return add_register_item(target.__name__, target)\n",
    "        else:                           # 如果不可调用，说明额外说明了注册的可调用对象的名字\n",
    "            return lambda x : add_register_item(target, x)\n",
    "    \n",
    "    def __setitem__(self, key, value):\n",
    "        self._dict[key] = value\n",
    "\n",
    "    def __getitem__(self, key):\n",
    "        return self._dict[key]\n",
    "    \n",
    "    def __contains__(self, key):\n",
    "        return key in self._dict\n",
    "    \n",
    "    def __str__(self):\n",
    "        return str(self._dict)\n",
    "    \n",
    "    def keys(self):\n",
    "        return self._dict.keys()\n",
    "    \n",
    "    def values(self):\n",
    "        return self._dict.values()\n",
    "    \n",
    "    def items(self):\n",
    "        return self._dict.items()\n",
    "    \n",
    "    def __call__(self, target):\n",
    "        return self.register(target)\n",
    "        "
   ]
  },
  {
   "cell_type": "markdown",
   "id": "16639296",
   "metadata": {},
   "source": [
    "需要实现功能：如果用户不填入参数，那么就以被注册函数的函数名作为注册名，若填入参数，则以该参数作为该函数的注册名。"
   ]
  },
  {
   "cell_type": "markdown",
   "id": "6edc1280",
   "metadata": {},
   "source": [
    "我就可以将实例后的对象的register方法作为装饰器函数套在我们想要注册的函数或者类上面啦！"
   ]
  },
  {
   "cell_type": "code",
   "execution_count": 29,
   "id": "8ac58e3e",
   "metadata": {},
   "outputs": [],
   "source": [
    "register_functions = Register()\n",
    "\n",
    "@register_functions.register\n",
    "def add(a : int, b : int):\n",
    "    return a + b\n",
    "\n",
    "@register_functions.register(\"my multiply\")\n",
    "def multiply(a : int, b : int):\n",
    "    return a * b\n",
    "\n",
    "@register_functions.register\n",
    "def minus(a : int, b : int):\n",
    "    return a - b"
   ]
  },
  {
   "cell_type": "code",
   "execution_count": 30,
   "id": "221fa44a",
   "metadata": {},
   "outputs": [
    {
     "name": "stdout",
     "output_type": "stream",
     "text": [
      "key: add, value: <function add at 0x00000260395DEF70>\n",
      "key: my multiply, value: <function multiply at 0x000002603B16E9D0>\n",
      "key: minus, value: <function minus at 0x000002603B16E820>\n"
     ]
    }
   ],
   "source": [
    "if __name__ == \"__main__\":\n",
    "    for k, v in register_functions.items():\n",
    "        print(f\"key: {k}, value: {v}\")"
   ]
  },
  {
   "cell_type": "code",
   "execution_count": 31,
   "id": "4dc5c219",
   "metadata": {},
   "outputs": [
    {
     "name": "stdout",
     "output_type": "stream",
     "text": [
      "{'add': <function add at 0x00000260395DEF70>, 'my multiply': <function multiply at 0x000002603B16E9D0>, 'minus': <function minus at 0x000002603B16E820>}\n"
     ]
    }
   ],
   "source": [
    "print(register_functions)"
   ]
  },
  {
   "cell_type": "code",
   "execution_count": null,
   "id": "82884ca2",
   "metadata": {},
   "outputs": [],
   "source": []
  }
 ],
 "metadata": {
  "kernelspec": {
   "display_name": "Python 3.9.13 64-bit",
   "language": "python",
   "name": "python3"
  },
  "language_info": {
   "codemirror_mode": {
    "name": "ipython",
    "version": 3
   },
   "file_extension": ".py",
   "mimetype": "text/x-python",
   "name": "python",
   "nbconvert_exporter": "python",
   "pygments_lexer": "ipython3",
   "version": "3.9.13"
  },
  "vscode": {
   "interpreter": {
    "hash": "da000593d77d4518b5a6be7156e4308f7d03d3c3a2a4c4d891dd39ba09d4292b"
   }
  }
 },
 "nbformat": 4,
 "nbformat_minor": 5
}
